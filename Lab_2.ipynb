{
 "cells": [
  {
   "cell_type": "markdown",
   "metadata": {},
   "source": [
    "# Lab 2 - Sacramento House Logistics"
   ]
  },
  {
   "cell_type": "markdown",
   "metadata": {},
   "source": [
    "Mauricio Garcia 10/2/19"
   ]
  },
  {
   "cell_type": "markdown",
   "metadata": {},
   "source": [
    "### Abstract"
   ]
  },
  {
   "cell_type": "markdown",
   "metadata": {},
   "source": [
    "In this lab, we will explore some different perspectives on the data related to house sizes, bedrooms, bathrooms and price for some Sacramento homes. The first portion of this lab will open up the file that contains the data to examine. After that, a couple of strings will print in clear terms (not code!) what numbers come out of this lab, such as minimums, maximums and averages."
   ]
  },
  {
   "cell_type": "markdown",
   "metadata": {},
   "source": [
    "## Dataset Preparation"
   ]
  },
  {
   "cell_type": "markdown",
   "metadata": {},
   "source": [
    "This data is from a secondary source, updated and created in the year 2006 and contains data from 985 home transactions in Sacramento"
   ]
  },
  {
   "cell_type": "markdown",
   "metadata": {},
   "source": [
    "In the code below, I am opening and showing the first 5 entries from a file and reading it into this Jupyter notebook to read later."
   ]
  },
  {
   "cell_type": "code",
   "execution_count": 17,
   "metadata": {},
   "outputs": [
    {
     "name": "stdout",
     "output_type": "stream",
     "text": [
      "['street,city,zip,state,beds,baths,sq__ft,type,sale_date,price,latitude,longitude\\n', '3526 HIGH ST,SACRAMENTO,95838,CA,2,1,836,Residential,Wed May 21 00:00:00 EDT 2008,59222,38.631913,-121.434879\\n', '51 OMAHA CT,SACRAMENTO,95823,CA,3,1,1167,Residential,Wed May 21 00:00:00 EDT 2008,68212,38.478902,-121.431028\\n', '2796 BRANCH ST,SACRAMENTO,95815,CA,2,1,796,Residential,Wed May 21 00:00:00 EDT 2008,68880,38.618305,-121.443839\\n', '2805 JANETTE WAY,SACRAMENTO,95815,CA,2,1,852,Residential,Wed May 21 00:00:00 EDT 2008,69307,38.616835,-121.439146\\n']\n"
     ]
    }
   ],
   "source": [
    "# open the file\n",
    "\n",
    "data_file = open(\"Sacramentorealestatetransactions.csv\", \"r\");\n",
    "\n",
    "\n",
    "House_info_List = [];\n",
    "\n",
    "#put all lines from the file into a list\n",
    "for row in data_file:\n",
    "    House_info_List.append(row);\n",
    "    \n",
    "#close the file. It's the courteous and clean thing to do\n",
    "data_file.close();\n",
    "\n",
    "# show the first five items in the list. Notice that they are all strings\n",
    "# the \\n part of the string means \"newline\" - its the symbol that represents the end of a line\n",
    "print(House_info_List[:5]);\n"
   ]
  },
  {
   "cell_type": "markdown",
   "metadata": {},
   "source": [
    "Now comes the time to organize in columns and rows..."
   ]
  },
  {
   "cell_type": "code",
   "execution_count": 18,
   "metadata": {},
   "outputs": [
    {
     "name": "stdout",
     "output_type": "stream",
     "text": [
      "List of just the Beds data:\n",
      "[2, 3, 2, 2, 2, 3, 3, 3, 2, 3]\n",
      "\n",
      "List of just the Baths data:\n",
      "[1, 1, 1, 1, 1, 1, 2, 1, 2, 2]\n",
      "\n",
      "List of just the Square feet data:\n",
      "[836, 1167, 796, 852, 797, 1122, 1104, 1177, 941, 1146]\n",
      "\n",
      "List of just the prices (in dollars) data:\n",
      "[59222, 68212, 68880, 69307, 81900, 89921, 90895, 91002, 94905, 98937]\n"
     ]
    }
   ],
   "source": [
    "#remove the first element (column header)\n",
    "# the header is useful for telling us what the columns mean, \n",
    "# but you don't want to include it in your mathematical calculations\n",
    "del House_info_List[0];\n",
    "\n",
    "# we want to make a list of the beds, baths, square feet and prices of houses\n",
    "Beds = [];\n",
    "Baths = [];  \n",
    "Square_feet = [];\n",
    "Prices = [];\n",
    "\n",
    "# loop (go through every row one by one) through the original House_info_List\n",
    "for item in range(len(House_info_List)):\n",
    "    \n",
    "    # this line is a bit confusing, but what it is doing is splitting out each comma separated item from a row and turning it into a list \n",
    "    # After being split, the seven separate strings are then stored in another list called House_info_row\n",
    "    House_info_row = House_info_List[item].split(\",\")\n",
    "    \n",
    "    #now that we've split the row into its two parts, we can pick and choose how to assign them to their appropriate columns and rows\n",
    "    \n",
    "    Beds.append(int(House_info_row[4]))\n",
    "    Baths.append(int(House_info_row[5]))\n",
    "    Square_feet.append(int(House_info_row[6]))\n",
    "    Prices.append(int(House_info_row[9]))\n",
    "    \n",
    "print(\"List of just the Beds data:\")\n",
    "print(Beds[:10])\n",
    "print(\"\\nList of just the Baths data:\")\n",
    "print(Baths[:10])\n",
    "print(\"\\nList of just the Square feet data:\")\n",
    "print(Square_feet[:10])\n",
    "print(\"\\nList of just the prices (in dollars) data:\")\n",
    "print(Prices[:10])"
   ]
  },
  {
   "cell_type": "markdown",
   "metadata": {},
   "source": [
    "Now that we have a couple of data points to work with, we can move on to proccess and analyze them to see what interesting things pop up!"
   ]
  },
  {
   "cell_type": "markdown",
   "metadata": {},
   "source": [
    "# Data Analysis"
   ]
  },
  {
   "cell_type": "markdown",
   "metadata": {},
   "source": [
    "To start off, I calculate the range of the data for the beds, baths, prices and square feet"
   ]
  },
  {
   "cell_type": "code",
   "execution_count": 19,
   "metadata": {},
   "outputs": [
    {
     "name": "stdout",
     "output_type": "stream",
     "text": [
      "the range of beds is from 0 to 8\n"
     ]
    }
   ],
   "source": [
    "# finding the minimum and maximum numbers in a list is easy - you just call functions min and max\n",
    "minNbr = min(Beds)\n",
    "maxNbr = max(Beds)\n",
    "\n",
    "print(\"the range of beds is from\", minNbr, \"to\", maxNbr)"
   ]
  },
  {
   "cell_type": "code",
   "execution_count": 20,
   "metadata": {},
   "outputs": [
    {
     "name": "stdout",
     "output_type": "stream",
     "text": [
      "the range of baths is from 0 to 5\n"
     ]
    }
   ],
   "source": [
    "maxNbr = max(Baths)\n",
    "maxNbr = max(Baths)\n",
    "print(\"the range of baths is from\", minNbr, \"to\", maxNbr)"
   ]
  },
  {
   "cell_type": "code",
   "execution_count": 21,
   "metadata": {},
   "outputs": [
    {
     "name": "stdout",
     "output_type": "stream",
     "text": [
      "the range of square feets is from 0 to 5822\n"
     ]
    }
   ],
   "source": [
    "maxNbr = max(Square_feet)\n",
    "maxNbr = max(Square_feet)\n",
    "print(\"the range of square feets is from\", minNbr, \"to\", maxNbr)"
   ]
  },
  {
   "cell_type": "code",
   "execution_count": 22,
   "metadata": {},
   "outputs": [
    {
     "name": "stdout",
     "output_type": "stream",
     "text": [
      "the range of prices is from 0 to 884790\n"
     ]
    }
   ],
   "source": [
    "maxNbr = max(Prices)\n",
    "maxNbr = max(Prices)\n",
    "print(\"the range of prices is from\", minNbr, \"to\", maxNbr)"
   ]
  },
  {
   "cell_type": "markdown",
   "metadata": {},
   "source": [
    "Personally, I'm also a little curious to know what the average price of a house is in Sacramento, so I'm going to present that."
   ]
  },
  {
   "cell_type": "code",
   "execution_count": 32,
   "metadata": {},
   "outputs": [
    {
     "name": "stdout",
     "output_type": "stream",
     "text": [
      "Number of values is  985\n",
      "Total sum of the prices is  230632100\n",
      "So the the average price of a house in Sacramento is  234144.26395939087 dollars\n"
     ]
    }
   ],
   "source": [
    "# to count how many items are in the list, use the function len\n",
    "count = len(Prices)\n",
    "print(\"Number of values is \", count)\n",
    "\n",
    "# to add up all the items in the list, use the function sum\n",
    "total = sum(Prices)\n",
    "print(\"Total sum of the prices is \", total)\n",
    "\n",
    "# you can then use these two values to calculate the average (also called the mean)\n",
    "avg=total/count\n",
    "print(\"So the the average price of a house in Sacramento is \", float(avg), \"dollars\")"
   ]
  },
  {
   "cell_type": "markdown",
   "metadata": {},
   "source": [
    "# Conclusions"
   ]
  },
  {
   "cell_type": "markdown",
   "metadata": {},
   "source": [
    "Now that we have some data, a couple of questions may arise:\n",
    "\n",
    "    * What type of house has no bedrooms or bathrooms or either?\n",
    "    * What type of house has 0 square feet?\n",
    "    * How much has the aveage price of a house in Sacramento changed since time has gone by?\n",
    "    \n",
    "For the first two questions, my gut feeling is that there is not actually a house with no square feet, bedrooms or baths. Chances are, values where no information was available was substituted with a 0. This would make some sense. Another thing that may also be true is that there may be a case in which a house has a bedroom and square feet, but no bathroom installed. It's interesting to speculate what these weird data points might mean however."
   ]
  },
  {
   "cell_type": "code",
   "execution_count": null,
   "metadata": {},
   "outputs": [],
   "source": []
  }
 ],
 "metadata": {
  "kernelspec": {
   "display_name": "Python 3",
   "language": "python",
   "name": "python3"
  },
  "language_info": {
   "codemirror_mode": {
    "name": "ipython",
    "version": 3
   },
   "file_extension": ".py",
   "mimetype": "text/x-python",
   "name": "python",
   "nbconvert_exporter": "python",
   "pygments_lexer": "ipython3",
   "version": "3.7.3"
  }
 },
 "nbformat": 4,
 "nbformat_minor": 2
}
